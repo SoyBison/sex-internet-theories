{
 "cells": [
  {
   "cell_type": "code",
   "execution_count": 2,
   "metadata": {},
   "outputs": [],
   "source": [
    "import numpy as np\n",
    "import pandas as pd\n",
    "import glob\n",
    "import pickle\n",
    "import zipfile as zpf\n",
    "import os\n",
    "import dataset\n",
    "import re\n",
    "from dateutil.parser import parse as dateparse\n",
    "from tqdm import tqdm\n",
    "import time\n",
    "if 'data' in sys.modules:\n",
    "    del sys.modules['data']\n",
    "import data as und"
   ]
  },
  {
   "cell_type": "code",
   "execution_count": 3,
   "metadata": {},
   "outputs": [
    {
     "output_type": "stream",
     "name": "stdout",
     "text": "Loading rec.games.board...\n0it [00:00, ?it/s]\n"
    }
   ],
   "source": [
    "board_games = und.Newsgroup('rec.games.board')\n"
   ]
  },
  {
   "cell_type": "code",
   "execution_count": 5,
   "metadata": {},
   "outputs": [],
   "source": [
    "db = dataset.connect('sqlite:///../Data/usenet.db')"
   ]
  },
  {
   "cell_type": "code",
   "execution_count": 7,
   "metadata": {},
   "outputs": [
    {
     "output_type": "execute_result",
     "data": {
      "text/plain": "['id', 'rec_puzzles', 'rec_org_mensa', 'rec_games_board\\\\r', 'message_id']"
     },
     "metadata": {},
     "execution_count": 7
    }
   ],
   "source": [
    "db['newsgroups'].columns"
   ]
  },
  {
   "cell_type": "code",
   "execution_count": 5,
   "metadata": {},
   "outputs": [],
   "source": [
    "with zpf.ZipFile('../Data/usenet-rec/rec.aviation.ifr.mbox.zip', 'r') as zp:\n",
    "    raw = zp.open('rec.aviation.ifr.mbox')\n",
    "    raw.seek(0, 2)\n",
    "    size = raw.tell()\n",
    "    raw.seek(0, 0)\n",
    "\n",
    "reader = und.usenet_reader(raw)\n",
    "tpo = next(reader)[0].split('\\\\n')"
   ]
  },
  {
   "cell_type": "code",
   "execution_count": 31,
   "metadata": {},
   "outputs": [
    {
     "output_type": "stream",
     "name": "stdout",
     "text": "2.365434169769287\n"
    }
   ],
   "source": [
    "import time\n",
    "table = dataset.connect('sqlite:///test.db')['test']\n",
    "rows = [dict(name='Dolly')] * 664974\n",
    "t0 = time.time()\n",
    "table.insert_many(rows, chunk_size=664974)\n",
    "print(time.time() - t0)"
   ]
  },
  {
   "cell_type": "code",
   "execution_count": 15,
   "metadata": {},
   "outputs": [],
   "source": [
    "seed = board_games.pop(list(board_games.keys())[0])"
   ]
  },
  {
   "cell_type": "code",
   "execution_count": 26,
   "metadata": {},
   "outputs": [
    {
     "output_type": "execute_result",
     "data": {
      "text/plain": "0"
     },
     "metadata": {},
     "execution_count": 26
    }
   ],
   "source": [
    "sum(['' in p.newsgroups for p in board_games.values()])"
   ]
  },
  {
   "cell_type": "code",
   "execution_count": 9,
   "metadata": {},
   "outputs": [
    {
     "output_type": "execute_result",
     "data": {
      "text/plain": "True"
     },
     "metadata": {},
     "execution_count": 9
    }
   ],
   "source": [
    "['rec', 'games', 'board'] == ['rec', 'games', 'board', 'market', 'place'][:3]\n"
   ]
  },
  {
   "cell_type": "code",
   "execution_count": 16,
   "metadata": {},
   "outputs": [
    {
     "output_type": "stream",
     "name": "stdout",
     "text": "Retrieving the post took 0.08177733421325684 seconds.\nCreating the data dump took 6.771087646484375e-05 seconds.\nMaking the data sql compatible took 7.081031799316406e-05 seconds.\n"
    }
   ],
   "source": [
    "t0 = time.time()\n",
    "post = board_games.retrieve_post('<1137060942.032134.173440@g43g2000cwa.googlegroups.com>')\n",
    "t1 = time.time()\n",
    "data_dump = {'source': post.source,\n",
    "                'date': post.date,\n",
    "                'subject': post.subject,\n",
    "                'message_id': post.message_id,\n",
    "                'body': post.body}\n",
    "t2 = time.time()\n",
    "news_data = {group.replace('.', '_'): 1 for group in post.newsgroups if group != ''}\n",
    "t3 = time.time()\n",
    "print(f'Retrieving the post took {t1-t0} seconds.')\n",
    "print(f'Creating the data dump took {t2 - t1} seconds.')\n",
    "print(f'Making the data sql compatible took {t3 - t2} seconds.')"
   ]
  },
  {
   "cell_type": "code",
   "execution_count": 10,
   "metadata": {},
   "outputs": [
    {
     "output_type": "error",
     "ename": "KeyError",
     "evalue": "0",
     "traceback": [
      "\u001b[0;31m---------------------------------------------------------------------------\u001b[0m",
      "\u001b[0;31mKeyError\u001b[0m                                  Traceback (most recent call last)",
      "\u001b[0;32m<ipython-input-10-93ee93b62c98>\u001b[0m in \u001b[0;36m<module>\u001b[0;34m\u001b[0m\n\u001b[0;32m----> 1\u001b[0;31m \u001b[0mboard_games\u001b[0m\u001b[0;34m[\u001b[0m\u001b[0;36m0\u001b[0m\u001b[0;34m]\u001b[0m\u001b[0;34m\u001b[0m\u001b[0;34m\u001b[0m\u001b[0m\n\u001b[0m",
      "\u001b[0;31mKeyError\u001b[0m: 0"
     ]
    }
   ],
   "source": [
    "board_games"
   ]
  },
  {
   "cell_type": "code",
   "execution_count": null,
   "metadata": {},
   "outputs": [],
   "source": []
  }
 ],
 "metadata": {
  "language_info": {
   "codemirror_mode": {
    "name": "ipython",
    "version": 3
   },
   "file_extension": ".py",
   "mimetype": "text/x-python",
   "name": "python",
   "nbconvert_exporter": "python",
   "pygments_lexer": "ipython3",
   "version": "3.8.2-final"
  },
  "orig_nbformat": 2,
  "kernelspec": {
   "name": "python38264bitvenvvenv4146690cdd5a46418bbec2702f4e1b62",
   "display_name": "Python 3.8.2 64-bit ('venv': venv)"
  }
 },
 "nbformat": 4,
 "nbformat_minor": 2
}